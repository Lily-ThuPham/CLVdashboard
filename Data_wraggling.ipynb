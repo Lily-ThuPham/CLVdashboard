{
 "cells": [
  {
   "cell_type": "markdown",
   "metadata": {},
   "source": [
    "# Opening\n"
   ]
  },
  {
   "cell_type": "markdown",
   "metadata": {},
   "source": [
    "### Data Wrangling \n"
   ]
  },
  {
   "cell_type": "markdown",
   "metadata": {},
   "source": [
    "##### Import necessary libraries "
   ]
  },
  {
   "cell_type": "code",
   "execution_count": 1,
   "metadata": {},
   "outputs": [],
   "source": [
    "import pandas as pd \n",
    "import numpy as np \n",
    "from datetime import datetime,timedelta"
   ]
  },
  {
   "cell_type": "markdown",
   "metadata": {},
   "source": [
    "Import the tables"
   ]
  },
  {
   "cell_type": "code",
   "execution_count": 2,
   "metadata": {},
   "outputs": [],
   "source": [
    "customer_cases = pd.read_csv(r'G:\\My Drive\\Lily Career\\Work\\Portfolio\\Power BI - CLV\\Dataset\\customer_cases.csv')\n",
    "customer_info = pd.read_csv(r'G:\\My Drive\\Lily Career\\Work\\Portfolio\\Power BI - CLV\\Dataset\\customer_info.csv')\n",
    "customer_product = pd.read_csv(r'G:\\My Drive\\Lily Career\\Work\\Portfolio\\Power BI - CLV\\Dataset\\customer_product.csv')\n",
    "product_info = pd.read_csv(r'G:\\My Drive\\Lily Career\\Work\\Portfolio\\Power BI - CLV\\Dataset\\product_info.csv')"
   ]
  },
  {
   "cell_type": "code",
   "execution_count": 3,
   "metadata": {},
   "outputs": [
    {
     "data": {
      "text/html": [
       "<div>\n",
       "<style scoped>\n",
       "    .dataframe tbody tr th:only-of-type {\n",
       "        vertical-align: middle;\n",
       "    }\n",
       "\n",
       "    .dataframe tbody tr th {\n",
       "        vertical-align: top;\n",
       "    }\n",
       "\n",
       "    .dataframe thead th {\n",
       "        text-align: right;\n",
       "    }\n",
       "</style>\n",
       "<table border=\"1\" class=\"dataframe\">\n",
       "  <thead>\n",
       "    <tr style=\"text-align: right;\">\n",
       "      <th></th>\n",
       "      <th>Unnamed: 0</th>\n",
       "      <th>customer_id</th>\n",
       "      <th>product</th>\n",
       "      <th>signup_date_time</th>\n",
       "      <th>cancel_date_time</th>\n",
       "    </tr>\n",
       "  </thead>\n",
       "  <tbody>\n",
       "    <tr>\n",
       "      <th>129527</th>\n",
       "      <td>129528</td>\n",
       "      <td>C131975</td>\n",
       "      <td>prd_2</td>\n",
       "      <td>2017-01-01 07:55:42</td>\n",
       "      <td>NaN</td>\n",
       "    </tr>\n",
       "    <tr>\n",
       "      <th>129528</th>\n",
       "      <td>129529</td>\n",
       "      <td>C131976</td>\n",
       "      <td>prd_1</td>\n",
       "      <td>2017-01-01 09:16:32</td>\n",
       "      <td>NaN</td>\n",
       "    </tr>\n",
       "    <tr>\n",
       "      <th>129529</th>\n",
       "      <td>129530</td>\n",
       "      <td>C131977</td>\n",
       "      <td>prd_1</td>\n",
       "      <td>2017-01-01 09:37:09</td>\n",
       "      <td>NaN</td>\n",
       "    </tr>\n",
       "    <tr>\n",
       "      <th>129530</th>\n",
       "      <td>129531</td>\n",
       "      <td>C131978</td>\n",
       "      <td>prd_1</td>\n",
       "      <td>2017-01-01 10:14:28</td>\n",
       "      <td>2020-10-21 15:39:59</td>\n",
       "    </tr>\n",
       "    <tr>\n",
       "      <th>0</th>\n",
       "      <td>1</td>\n",
       "      <td>C2448</td>\n",
       "      <td>prd_1</td>\n",
       "      <td>2017-01-01 10:35:09</td>\n",
       "      <td>NaN</td>\n",
       "    </tr>\n",
       "  </tbody>\n",
       "</table>\n",
       "</div>"
      ],
      "text/plain": [
       "        Unnamed: 0 customer_id product     signup_date_time  \\\n",
       "129527      129528     C131975   prd_2  2017-01-01 07:55:42   \n",
       "129528      129529     C131976   prd_1  2017-01-01 09:16:32   \n",
       "129529      129530     C131977   prd_1  2017-01-01 09:37:09   \n",
       "129530      129531     C131978   prd_1  2017-01-01 10:14:28   \n",
       "0                1       C2448   prd_1  2017-01-01 10:35:09   \n",
       "\n",
       "           cancel_date_time  \n",
       "129527                  NaN  \n",
       "129528                  NaN  \n",
       "129529                  NaN  \n",
       "129530  2020-10-21 15:39:59  \n",
       "0                       NaN  "
      ]
     },
     "execution_count": 3,
     "metadata": {},
     "output_type": "execute_result"
    }
   ],
   "source": [
    "product_info.reset_index(drop=True,inplace=True)\n",
    "customer_cases.reset_index(drop=True,inplace=True)\n",
    "customer_info.reset_index(drop=True,inplace=True)\n",
    "customer_product.reset_index(drop=True,inplace=True)\n",
    "\n",
    "customer_product.sort_values(by='signup_date_time',ascending=True,inplace=True)\n",
    "customer_product.head()"
   ]
  },
  {
   "cell_type": "markdown",
   "metadata": {},
   "source": [
    "Data Cleaning & Transformation "
   ]
  },
  {
   "cell_type": "markdown",
   "metadata": {},
   "source": [
    "#### \"customer_case\" table"
   ]
  },
  {
   "cell_type": "code",
   "execution_count": 4,
   "metadata": {},
   "outputs": [],
   "source": [
    "customer_cases['date_time'] = pd.to_datetime(customer_cases['date_time'])\n",
    "customer_cases.drop(columns=['Unnamed: 0'],inplace=True)\n",
    "customer_cases.to_csv('customer_cases_date.csv',index=False)"
   ]
  },
  {
   "cell_type": "markdown",
   "metadata": {},
   "source": [
    "##### \"customer_product\" table"
   ]
  },
  {
   "cell_type": "code",
   "execution_count": 7,
   "metadata": {},
   "outputs": [
    {
     "data": {
      "text/html": [
       "<div>\n",
       "<style scoped>\n",
       "    .dataframe tbody tr th:only-of-type {\n",
       "        vertical-align: middle;\n",
       "    }\n",
       "\n",
       "    .dataframe tbody tr th {\n",
       "        vertical-align: top;\n",
       "    }\n",
       "\n",
       "    .dataframe thead th {\n",
       "        text-align: right;\n",
       "    }\n",
       "</style>\n",
       "<table border=\"1\" class=\"dataframe\">\n",
       "  <thead>\n",
       "    <tr style=\"text-align: right;\">\n",
       "      <th></th>\n",
       "      <th>customer_id</th>\n",
       "      <th>product</th>\n",
       "      <th>signup_date_time</th>\n",
       "      <th>cancel_date_time</th>\n",
       "    </tr>\n",
       "  </thead>\n",
       "  <tbody>\n",
       "    <tr>\n",
       "      <th>0</th>\n",
       "      <td>C131975</td>\n",
       "      <td>prd_2</td>\n",
       "      <td>2017-01-01 07:55:42</td>\n",
       "      <td>NaN</td>\n",
       "    </tr>\n",
       "    <tr>\n",
       "      <th>1</th>\n",
       "      <td>C131976</td>\n",
       "      <td>prd_1</td>\n",
       "      <td>2017-01-01 09:16:32</td>\n",
       "      <td>NaN</td>\n",
       "    </tr>\n",
       "    <tr>\n",
       "      <th>2</th>\n",
       "      <td>C131977</td>\n",
       "      <td>prd_1</td>\n",
       "      <td>2017-01-01 09:37:09</td>\n",
       "      <td>NaN</td>\n",
       "    </tr>\n",
       "    <tr>\n",
       "      <th>3</th>\n",
       "      <td>C131978</td>\n",
       "      <td>prd_1</td>\n",
       "      <td>2017-01-01 10:14:28</td>\n",
       "      <td>2020-10-21 15:39:59</td>\n",
       "    </tr>\n",
       "    <tr>\n",
       "      <th>4</th>\n",
       "      <td>C2448</td>\n",
       "      <td>prd_1</td>\n",
       "      <td>2017-01-01 10:35:09</td>\n",
       "      <td>NaN</td>\n",
       "    </tr>\n",
       "  </tbody>\n",
       "</table>\n",
       "</div>"
      ],
      "text/plain": [
       "  customer_id product     signup_date_time     cancel_date_time\n",
       "0     C131975   prd_2  2017-01-01 07:55:42                  NaN\n",
       "1     C131976   prd_1  2017-01-01 09:16:32                  NaN\n",
       "2     C131977   prd_1  2017-01-01 09:37:09                  NaN\n",
       "3     C131978   prd_1  2017-01-01 10:14:28  2020-10-21 15:39:59\n",
       "4       C2448   prd_1  2017-01-01 10:35:09                  NaN"
      ]
     },
     "execution_count": 7,
     "metadata": {},
     "output_type": "execute_result"
    }
   ],
   "source": [
    "# Remove \"Unnames\" column and duplicate rows\n",
    "customer_product.drop(columns=['Unnamed: 0'],inplace=True)\n",
    "customer_product.drop_duplicates(inplace=True)\n",
    "customer_product.reset_index(drop=True,inplace=True)\n",
    "\n",
    "customer_product.info()"
   ]
  },
  {
   "cell_type": "code",
   "execution_count": 5,
   "metadata": {},
   "outputs": [
    {
     "name": "stdout",
     "output_type": "stream",
     "text": [
      "<class 'pandas.core.frame.DataFrame'>\n",
      "Index: 508932 entries, 129527 to 508931\n",
      "Data columns (total 5 columns):\n",
      " #   Column            Non-Null Count   Dtype         \n",
      "---  ------            --------------   -----         \n",
      " 0   Unnamed: 0        508932 non-null  int64         \n",
      " 1   customer_id       508932 non-null  object        \n",
      " 2   product           508932 non-null  object        \n",
      " 3   signup_date_time  508932 non-null  datetime64[ns]\n",
      " 4   cancel_date_time  112485 non-null  datetime64[ns]\n",
      "dtypes: datetime64[ns](2), int64(1), object(2)\n",
      "memory usage: 23.3+ MB\n"
     ]
    }
   ],
   "source": [
    "customer_product['signup_date_time'] = pd.to_datetime(customer_product['signup_date_time'])\n",
    "customer_product['cancel_date_time'] = pd.to_datetime(customer_product['cancel_date_time'])\n",
    "customer_product.info()"
   ]
  },
  {
   "cell_type": "code",
   "execution_count": 7,
   "metadata": {},
   "outputs": [],
   "source": [
    "customer_product.to_csv('customer_product_clean.csv',index=False)"
   ]
  },
  {
   "cell_type": "markdown",
   "metadata": {},
   "source": [
    "##### Create and populate new transaction columns "
   ]
  },
  {
   "cell_type": "code",
   "execution_count": 14,
   "metadata": {},
   "outputs": [],
   "source": [
    "# Populate new \"customer_product\" table \n",
    "new_cus_prod = pd.merge(customer_product,product_info,left_on='product',right_on='product_id')\n",
    "new_cus_prod = new_cus_prod.drop(columns=['product_id','name'])"
   ]
  },
  {
   "cell_type": "code",
   "execution_count": 20,
   "metadata": {},
   "outputs": [],
   "source": [
    "def transactions_table(df):\n",
    "    transactions = []\n",
    "    end_period = pd.to_datetime(df[['signup_date_time','cancel_date_time']].max().max())\n",
    "    \n",
    "    for index,row in df.iterrows():\n",
    "        customer_id = row['customer_id']\n",
    "        product = row['product']\n",
    "        signup_date_time = row['signup_date_time']\n",
    "        cancel_date_time = row['cancel_date_time']\n",
    "        amount = row['price']\n",
    "        billing_cycle  = row['billing_cycle']\n",
    "        if pd.isna(cancel_date_time):\n",
    "            end_date = end_period\n",
    "        else:\n",
    "            end_date = cancel_date_time\n",
    "        \n",
    "        transaction_date = signup_date_time\n",
    "        while transaction_date <= end_date and transaction_date <= end_period:\n",
    "            transactions.append([customer_id,transaction_date,signup_date_time,cancel_date_time,product,amount])\n",
    "            transaction_date += timedelta(days=30 if product == 'prd_2' else 365)\n",
    "    return pd.DataFrame(transactions, columns=['customer_id','transaction_date','signup_date_time','cancel_date_time','product','amount'])\n",
    "\n",
    "transactions_df = transactions_table(new_cus_prod)"
   ]
  },
  {
   "cell_type": "code",
   "execution_count": 21,
   "metadata": {},
   "outputs": [
    {
     "data": {
      "text/html": [
       "<div>\n",
       "<style scoped>\n",
       "    .dataframe tbody tr th:only-of-type {\n",
       "        vertical-align: middle;\n",
       "    }\n",
       "\n",
       "    .dataframe tbody tr th {\n",
       "        vertical-align: top;\n",
       "    }\n",
       "\n",
       "    .dataframe thead th {\n",
       "        text-align: right;\n",
       "    }\n",
       "</style>\n",
       "<table border=\"1\" class=\"dataframe\">\n",
       "  <thead>\n",
       "    <tr style=\"text-align: right;\">\n",
       "      <th></th>\n",
       "      <th>customer_id</th>\n",
       "      <th>transaction_date</th>\n",
       "      <th>signup_date_time</th>\n",
       "      <th>cancel_date_time</th>\n",
       "      <th>product</th>\n",
       "      <th>amount</th>\n",
       "    </tr>\n",
       "  </thead>\n",
       "  <tbody>\n",
       "    <tr>\n",
       "      <th>0</th>\n",
       "      <td>C131975</td>\n",
       "      <td>2017-01-01 07:55:42</td>\n",
       "      <td>2017-01-01 07:55:42</td>\n",
       "      <td>NaT</td>\n",
       "      <td>prd_2</td>\n",
       "      <td>125</td>\n",
       "    </tr>\n",
       "    <tr>\n",
       "      <th>1</th>\n",
       "      <td>C131975</td>\n",
       "      <td>2017-01-31 07:55:42</td>\n",
       "      <td>2017-01-01 07:55:42</td>\n",
       "      <td>NaT</td>\n",
       "      <td>prd_2</td>\n",
       "      <td>125</td>\n",
       "    </tr>\n",
       "    <tr>\n",
       "      <th>2</th>\n",
       "      <td>C131975</td>\n",
       "      <td>2017-03-02 07:55:42</td>\n",
       "      <td>2017-01-01 07:55:42</td>\n",
       "      <td>NaT</td>\n",
       "      <td>prd_2</td>\n",
       "      <td>125</td>\n",
       "    </tr>\n",
       "    <tr>\n",
       "      <th>3</th>\n",
       "      <td>C131975</td>\n",
       "      <td>2017-04-01 07:55:42</td>\n",
       "      <td>2017-01-01 07:55:42</td>\n",
       "      <td>NaT</td>\n",
       "      <td>prd_2</td>\n",
       "      <td>125</td>\n",
       "    </tr>\n",
       "    <tr>\n",
       "      <th>4</th>\n",
       "      <td>C131975</td>\n",
       "      <td>2017-05-01 07:55:42</td>\n",
       "      <td>2017-01-01 07:55:42</td>\n",
       "      <td>NaT</td>\n",
       "      <td>prd_2</td>\n",
       "      <td>125</td>\n",
       "    </tr>\n",
       "    <tr>\n",
       "      <th>5</th>\n",
       "      <td>C131975</td>\n",
       "      <td>2017-05-31 07:55:42</td>\n",
       "      <td>2017-01-01 07:55:42</td>\n",
       "      <td>NaT</td>\n",
       "      <td>prd_2</td>\n",
       "      <td>125</td>\n",
       "    </tr>\n",
       "    <tr>\n",
       "      <th>6</th>\n",
       "      <td>C131975</td>\n",
       "      <td>2017-06-30 07:55:42</td>\n",
       "      <td>2017-01-01 07:55:42</td>\n",
       "      <td>NaT</td>\n",
       "      <td>prd_2</td>\n",
       "      <td>125</td>\n",
       "    </tr>\n",
       "    <tr>\n",
       "      <th>7</th>\n",
       "      <td>C131975</td>\n",
       "      <td>2017-07-30 07:55:42</td>\n",
       "      <td>2017-01-01 07:55:42</td>\n",
       "      <td>NaT</td>\n",
       "      <td>prd_2</td>\n",
       "      <td>125</td>\n",
       "    </tr>\n",
       "    <tr>\n",
       "      <th>8</th>\n",
       "      <td>C131975</td>\n",
       "      <td>2017-08-29 07:55:42</td>\n",
       "      <td>2017-01-01 07:55:42</td>\n",
       "      <td>NaT</td>\n",
       "      <td>prd_2</td>\n",
       "      <td>125</td>\n",
       "    </tr>\n",
       "    <tr>\n",
       "      <th>9</th>\n",
       "      <td>C131975</td>\n",
       "      <td>2017-09-28 07:55:42</td>\n",
       "      <td>2017-01-01 07:55:42</td>\n",
       "      <td>NaT</td>\n",
       "      <td>prd_2</td>\n",
       "      <td>125</td>\n",
       "    </tr>\n",
       "  </tbody>\n",
       "</table>\n",
       "</div>"
      ],
      "text/plain": [
       "  customer_id    transaction_date    signup_date_time cancel_date_time  \\\n",
       "0     C131975 2017-01-01 07:55:42 2017-01-01 07:55:42              NaT   \n",
       "1     C131975 2017-01-31 07:55:42 2017-01-01 07:55:42              NaT   \n",
       "2     C131975 2017-03-02 07:55:42 2017-01-01 07:55:42              NaT   \n",
       "3     C131975 2017-04-01 07:55:42 2017-01-01 07:55:42              NaT   \n",
       "4     C131975 2017-05-01 07:55:42 2017-01-01 07:55:42              NaT   \n",
       "5     C131975 2017-05-31 07:55:42 2017-01-01 07:55:42              NaT   \n",
       "6     C131975 2017-06-30 07:55:42 2017-01-01 07:55:42              NaT   \n",
       "7     C131975 2017-07-30 07:55:42 2017-01-01 07:55:42              NaT   \n",
       "8     C131975 2017-08-29 07:55:42 2017-01-01 07:55:42              NaT   \n",
       "9     C131975 2017-09-28 07:55:42 2017-01-01 07:55:42              NaT   \n",
       "\n",
       "  product  amount  \n",
       "0   prd_2     125  \n",
       "1   prd_2     125  \n",
       "2   prd_2     125  \n",
       "3   prd_2     125  \n",
       "4   prd_2     125  \n",
       "5   prd_2     125  \n",
       "6   prd_2     125  \n",
       "7   prd_2     125  \n",
       "8   prd_2     125  \n",
       "9   prd_2     125  "
      ]
     },
     "execution_count": 21,
     "metadata": {},
     "output_type": "execute_result"
    }
   ],
   "source": [
    "transactions_df.head(10)"
   ]
  },
  {
   "cell_type": "code",
   "execution_count": 30,
   "metadata": {},
   "outputs": [],
   "source": [
    "transactions_df.to_csv('transactions_table.csv',index=False)"
   ]
  },
  {
   "cell_type": "code",
   "execution_count": 40,
   "metadata": {},
   "outputs": [
    {
     "name": "stdout",
     "output_type": "stream",
     "text": [
      "3577\n"
     ]
    },
    {
     "data": {
      "text/plain": [
       "3577"
      ]
     },
     "execution_count": 40,
     "metadata": {},
     "output_type": "execute_result"
    }
   ],
   "source": [
    "start = pd.to_datetime('2017-01-01')\n",
    "end = pd.to_datetime('2017-01-31')\n",
    "filter = customer_product[(customer_product['signup_date_time'].between(start,end))]\n",
    "filter2 = transactions_df[(transactions_df['transaction_date'].between(start,end))]\n",
    "print(filter2['customer_id'].nunique())\n",
    "filter.shape[0]"
   ]
  },
  {
   "cell_type": "code",
   "execution_count": null,
   "metadata": {},
   "outputs": [],
   "source": []
  }
 ],
 "metadata": {
  "kernelspec": {
   "display_name": "practice",
   "language": "python",
   "name": "python3"
  },
  "language_info": {
   "codemirror_mode": {
    "name": "ipython",
    "version": 3
   },
   "file_extension": ".py",
   "mimetype": "text/x-python",
   "name": "python",
   "nbconvert_exporter": "python",
   "pygments_lexer": "ipython3",
   "version": "3.12.4"
  }
 },
 "nbformat": 4,
 "nbformat_minor": 2
}
